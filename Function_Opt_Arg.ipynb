{
 "cells": [
  {
   "cell_type": "code",
   "execution_count": 16,
   "id": "6c92d4f5",
   "metadata": {},
   "outputs": [
    {
     "name": "stdout",
     "output_type": "stream",
     "text": [
      "Mehedi Joy Hassan\n",
      "Mehedi  Hassan\n",
      "{'first': 'mehedi', 'last': 'hassan'}\n"
     ]
    }
   ],
   "source": [
    "def F_name(f_name,l_name,m_name=\"\"):\n",
    "  if m_name:\n",
    "    full_name= (f\"{f_name} {m_name} {l_name}\")\n",
    "  else:\n",
    "    full_name= (f\"{f_name} {m_name} {l_name}\")\n",
    "  return full_name.title()\n",
    "A= F_name('mehedi','hassan','joy')\n",
    "print(A)\n",
    "B= F_name('mehedi','hassan')\n",
    "print(B)\n",
    "\n",
    "\n",
    "def buid_person(f_name,l_name):\n",
    "    person={'first':f_name,'last':l_name}\n",
    "    return person\n",
    "A= buid_person('mehedi','hassan')\n",
    "print(A)"
   ]
  }
 ],
 "metadata": {
  "kernelspec": {
   "display_name": "Python 3 (ipykernel)",
   "language": "python",
   "name": "python3"
  },
  "language_info": {
   "codemirror_mode": {
    "name": "ipython",
    "version": 3
   },
   "file_extension": ".py",
   "mimetype": "text/x-python",
   "name": "python",
   "nbconvert_exporter": "python",
   "pygments_lexer": "ipython3",
   "version": "3.9.12"
  }
 },
 "nbformat": 4,
 "nbformat_minor": 5
}
