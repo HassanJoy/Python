{
 "cells": [
  {
   "cell_type": "code",
   "execution_count": 17,
   "id": "a7d07dd0",
   "metadata": {},
   "outputs": [
    {
     "name": "stdout",
     "output_type": "stream",
     "text": [
      "mehedi\n",
      "Rahul\n",
      "raihan\n",
      "joy\n"
     ]
    }
   ],
   "source": [
    "def f_list(names):\n",
    "    for name in names:\n",
    "      print(name)\n",
    "usernames=['mehedi','raihan','joy']\n",
    "usernames.insert(1,'Rahul')\n",
    "f_list(usernames)\n",
    "   "
   ]
  }
 ],
 "metadata": {
  "kernelspec": {
   "display_name": "Python 3 (ipykernel)",
   "language": "python",
   "name": "python3"
  },
  "language_info": {
   "codemirror_mode": {
    "name": "ipython",
    "version": 3
   },
   "file_extension": ".py",
   "mimetype": "text/x-python",
   "name": "python",
   "nbconvert_exporter": "python",
   "pygments_lexer": "ipython3",
   "version": "3.9.12"
  }
 },
 "nbformat": 4,
 "nbformat_minor": 5
}
