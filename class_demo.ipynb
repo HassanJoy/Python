{
 "cells": [
  {
   "cell_type": "code",
   "execution_count": 11,
   "id": "4c8bb1e1",
   "metadata": {},
   "outputs": [
    {
     "name": "stdout",
     "output_type": "stream",
     "text": [
      "Tommy is no setting\n",
      "5 is rolled over\n"
     ]
    }
   ],
   "source": [
    "class dog:\n",
    "    def __init__(self,name,age):\n",
    "        self.name = name\n",
    "        self.age = age\n",
    "    def sit(self):\n",
    "        print(f\"{self.name} is no setting\")\n",
    "    def rool_over(self):\n",
    "        print(f\"{self.age} is rolled over\")\n",
    "my_dog=dog('Tommy',5)\n",
    "my_dog.sit()\n",
    "my_dog.rool_over()\n",
    " "
   ]
  },
  {
   "cell_type": "code",
   "execution_count": 43,
   "id": "72258cbc",
   "metadata": {},
   "outputs": [
    {
     "name": "stdout",
     "output_type": "stream",
     "text": [
      "student Name: Mehedi\n",
      "Student id: 1\n",
      "student age: 22\n",
      "\n",
      "student Name: Jellyfish\n",
      "Student id: 2\n",
      "student age: 22\n",
      "\n",
      "student Name: Mehedi\n",
      "Student id: 11\n",
      "student age: 22\n"
     ]
    }
   ],
   "source": [
    "class student:\n",
    "    def __init__(self,name,id,age):\n",
    "        self.name=name\n",
    "        self.id=id\n",
    "        self.age=age\n",
    "    def s_info(self):\n",
    "        print(f\"student Name: {self.name.title()}\")\n",
    "        print (f\"Student id: {self.id}\")\n",
    "        print (f\"student age: {self.age}\")\n",
    "s1=student('mehedi',1,22)\n",
    "s1.s_info()\n",
    "print()\n",
    "s2=student('jellyfish',2,22)\n",
    "s2.s_info()\n",
    "print()\n",
    "s1.id=11\n",
    "s1.s_info()\n",
    "\n",
    "\n",
    "\n",
    "\n",
    "\n",
    "        "
   ]
  },
  {
   "cell_type": "code",
   "execution_count": null,
   "id": "5f96a241",
   "metadata": {},
   "outputs": [],
   "source": []
  }
 ],
 "metadata": {
  "kernelspec": {
   "display_name": "Python 3 (ipykernel)",
   "language": "python",
   "name": "python3"
  },
  "language_info": {
   "codemirror_mode": {
    "name": "ipython",
    "version": 3
   },
   "file_extension": ".py",
   "mimetype": "text/x-python",
   "name": "python",
   "nbconvert_exporter": "python",
   "pygments_lexer": "ipython3",
   "version": "3.9.12"
  }
 },
 "nbformat": 4,
 "nbformat_minor": 5
}
