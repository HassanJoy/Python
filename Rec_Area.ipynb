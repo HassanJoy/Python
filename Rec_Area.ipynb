{
 "cells": [
  {
   "cell_type": "code",
   "execution_count": 3,
   "id": "b6d0e886",
   "metadata": {},
   "outputs": [
    {
     "name": "stdout",
     "output_type": "stream",
     "text": [
      "Enter the width of a rectangle: 10.5\n",
      "Enter the height of a rectangle: 12.5\n",
      "131.25\n",
      "46.0\n"
     ]
    }
   ],
   "source": [
    "def Areaofrectangle(width, height):\n",
    "    Area = width * height\n",
    "    Perimeter = 2 * (width + height)\n",
    "    print(Area)\n",
    "    print(Perimeter)\n",
    "width = float(input('Enter the width of a rectangle: '))\n",
    "height = float(input('Enter the height of a rectangle: '))\n",
    "Areaofrectangle(width, height)"
   ]
  }
 ],
 "metadata": {
  "kernelspec": {
   "display_name": "Python 3 (ipykernel)",
   "language": "python",
   "name": "python3"
  },
  "language_info": {
   "codemirror_mode": {
    "name": "ipython",
    "version": 3
   },
   "file_extension": ".py",
   "mimetype": "text/x-python",
   "name": "python",
   "nbconvert_exporter": "python",
   "pygments_lexer": "ipython3",
   "version": "3.9.12"
  }
 },
 "nbformat": 4,
 "nbformat_minor": 5
}
